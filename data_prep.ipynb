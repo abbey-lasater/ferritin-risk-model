{
 "cells": [
  {
   "cell_type": "markdown",
   "id": "7413228c",
   "metadata": {},
   "source": [
    "Data Loading and Preprocessing\n",
    "\n",
    "This notebook handles loading and cleaning the datasets, merging them into a unified dataframe, and preparing the data for analysis. The goal is to structure the data to answer key questions about ferritin deficiency in women, such as:\n",
    "\n",
    "Which demographic variables are most strongly associated with ferritin deficiency?\n",
    "What body measurements show significant correlation with ferritin deficiency?\n",
    "How complete and reliable is the data for these variables?\n",
    "Are there any obvious data quality issues that need to be addressed before further analysis?"
   ]
  },
  {
   "cell_type": "markdown",
   "id": "2fea13a9",
   "metadata": {},
   "source": [
    "Installing Libraries"
   ]
  },
  {
   "cell_type": "code",
   "execution_count": 89,
   "id": "b5c15b69",
   "metadata": {},
   "outputs": [],
   "source": [
    "import pandas as pd\n",
    "from sklearn.impute import KNNImputer"
   ]
  },
  {
   "cell_type": "markdown",
   "id": "5238f260",
   "metadata": {},
   "source": [
    "Bring In Data"
   ]
  },
  {
   "cell_type": "code",
   "execution_count": 90,
   "id": "d51080ee",
   "metadata": {},
   "outputs": [],
   "source": [
    "# defining file paths\n",
    "bmx_file_path = '/Users/abbeylasater/Desktop/ferritin-risk-model/BMX_L.xpt.xpt'\n",
    "demo_file_path = '/Users/abbeylasater/Desktop/ferritin-risk-model/DEMO_L.xpt.xpt'\n",
    "fertin_file_path = '/Users/abbeylasater/Desktop/ferritin-risk-model/FERTIN_L.xpt.xpt'\n",
    "\n",
    "# Read the XPT file\n",
    "bmx_df = pd.read_sas(bmx_file_path, format='xport')\n",
    "demo_df = pd.read_sas(demo_file_path, format='xport')\n",
    "fertin_df = pd.read_sas(fertin_file_path, format='xport')\n",
    "\n"
   ]
  },
  {
   "cell_type": "code",
   "execution_count": 91,
   "id": "a0b80ff6",
   "metadata": {},
   "outputs": [
    {
     "name": "stdout",
     "output_type": "stream",
     "text": [
      "       SEQN  BMDSTATS  BMXWT  BMIWT  BMXRECUM  BMIRECUM  BMXHEAD  BMIHEAD  \\\n",
      "0  130378.0       1.0   86.9    NaN       NaN       NaN      NaN      NaN   \n",
      "1  130379.0       1.0  101.8    NaN       NaN       NaN      NaN      NaN   \n",
      "2  130380.0       1.0   69.4    NaN       NaN       NaN      NaN      NaN   \n",
      "3  130381.0       1.0   34.3    NaN       NaN       NaN      NaN      NaN   \n",
      "4  130382.0       3.0   13.6    NaN       NaN       1.0      NaN      NaN   \n",
      "\n",
      "   BMXHT  BMIHT  ...  BMXLEG  BMILEG  BMXARML  BMIARML  BMXARMC  BMIARMC  \\\n",
      "0  179.5    NaN  ...    42.8     NaN     42.0      NaN     35.7      NaN   \n",
      "1  174.2    NaN  ...    38.5     NaN     38.7      NaN     33.7      NaN   \n",
      "2  152.9    NaN  ...    38.5     NaN     35.5      NaN     36.3      NaN   \n",
      "3  120.1    NaN  ...     NaN     NaN     25.4      NaN     23.4      NaN   \n",
      "4    NaN    1.0  ...     NaN     NaN      NaN      1.0      NaN      1.0   \n",
      "\n",
      "   BMXWAIST  BMIWAIST  BMXHIP  BMIHIP  \n",
      "0      98.3       NaN   102.9     NaN  \n",
      "1     114.7       NaN   112.4     NaN  \n",
      "2      93.5       NaN    98.0     NaN  \n",
      "3      70.4       NaN     NaN     NaN  \n",
      "4       NaN       1.0     NaN     NaN  \n",
      "\n",
      "[5 rows x 22 columns]\n",
      "       SEQN  SDDSRVYR  RIDSTATR  RIAGENDR  RIDAGEYR  RIDAGEMN  RIDRETH1  \\\n",
      "0  130378.0      12.0       2.0       1.0      43.0       NaN       5.0   \n",
      "1  130379.0      12.0       2.0       1.0      66.0       NaN       3.0   \n",
      "2  130380.0      12.0       2.0       2.0      44.0       NaN       2.0   \n",
      "3  130381.0      12.0       2.0       2.0       5.0       NaN       5.0   \n",
      "4  130382.0      12.0       2.0       1.0       2.0       NaN       3.0   \n",
      "\n",
      "   RIDRETH3  RIDEXMON  RIDEXAGM  ...  DMDHRGND  DMDHRAGZ  DMDHREDZ  DMDHRMAZ  \\\n",
      "0       6.0       2.0       NaN  ...       NaN       NaN       NaN       NaN   \n",
      "1       3.0       2.0       NaN  ...       NaN       NaN       NaN       NaN   \n",
      "2       2.0       1.0       NaN  ...       NaN       NaN       NaN       NaN   \n",
      "3       7.0       1.0      71.0  ...       2.0       2.0       2.0       3.0   \n",
      "4       3.0       2.0      34.0  ...       2.0       2.0       3.0       1.0   \n",
      "\n",
      "   DMDHSEDZ      WTINT2YR      WTMEC2YR  SDMVSTRA  SDMVPSU  INDFMPIR  \n",
      "0       NaN  50055.450807  54374.463898     173.0      2.0      5.00  \n",
      "1       NaN  29087.450605  34084.721548     173.0      2.0      5.00  \n",
      "2       NaN  80062.674301  81196.277992     174.0      1.0      1.41  \n",
      "3       NaN  38807.268902  55698.607106     182.0      2.0      1.53  \n",
      "4       2.0  30607.519774  36434.146346     182.0      2.0      3.60  \n",
      "\n",
      "[5 rows x 27 columns]\n",
      "       SEQN       WTPH2YR  LBXFER  LBDFERSI\n",
      "0  130380.0  8.532884e+04    13.3      13.3\n",
      "1  130381.0  5.397605e-79     NaN       NaN\n",
      "2  130382.0  5.963893e+04    24.4      24.4\n",
      "3  130388.0  3.286429e+04     NaN       NaN\n",
      "4  130390.0  6.142701e+04    52.1      52.1\n"
     ]
    }
   ],
   "source": [
    "# display top of each\n",
    "print(bmx_df.head())\n",
    "print(demo_df.head())\n",
    "print(fertin_df.head())"
   ]
  },
  {
   "cell_type": "markdown",
   "id": "ce7118c5",
   "metadata": {},
   "source": []
  },
  {
   "cell_type": "markdown",
   "id": "7b199a9d",
   "metadata": {},
   "source": [
    "pre-processing steps:\n",
    "Handle duplicates, fix inconsistent column names.\n",
    "Convert data types as needed (e.g., dates, categorical variables).\n",
    "\n",
    "Check for missing values — where and how much?\n",
    "Identify any obviously corrupted or outlier data.\n",
    "Look for inconsistent values or categories.\n",
    "\n",
    "Rename columns for clarity.\n",
    "Create meaningful data types (category, datetime, etc.).\n",
    "If needed, filter down to your target population (e.g., women aged 18-50)."
   ]
  },
  {
   "cell_type": "code",
   "execution_count": 92,
   "id": "76a0b499",
   "metadata": {},
   "outputs": [],
   "source": [
    "# joining datasets\n",
    "df = pd.merge(fertin_df, bmx_df, on='SEQN', how='left')\n",
    "df = pd.merge(df, demo_df, on='SEQN', how='left')"
   ]
  },
  {
   "cell_type": "code",
   "execution_count": 93,
   "id": "664aabcf",
   "metadata": {},
   "outputs": [],
   "source": [
    "# dropping any rows with no ferritin level\n",
    "df = df[~df['LBXFER'].isnull()]"
   ]
  },
  {
   "cell_type": "code",
   "execution_count": 94,
   "id": "3c9072cb",
   "metadata": {},
   "outputs": [],
   "source": [
    "# Selecting necessary columns\n",
    "df = df[['SEQN',\n",
    "         'SDDSRVYR',\n",
    "         'RIDSTATR',\n",
    "         'RIAGENDR',\n",
    "         'RIDAGEYR',\n",
    "         'RIDAGEMN',\n",
    "         'RIDRETH1',\n",
    "         'RIDRETH3',\n",
    "         'RIDEXMON',\n",
    "         'RIDEXAGM',\n",
    "         'BMXWT',\n",
    "         'BMXHT',\n",
    "         'BMXBMI',\n",
    "         'BMXWAIST',\n",
    "         'LBXFER']]\n"
   ]
  },
  {
   "cell_type": "markdown",
   "id": "e176461e",
   "metadata": {},
   "source": [
    "#  columns meaning\n",
    "        BMXWT : weight (kg)\n",
    "         'RIAGENDR', gender\n",
    "         'RIDAGEYR' : age (years)\n",
    "         'RIDAGEMN' : age (months)\n",
    "         'RIDRETH1' : race-ethnicity cat\n",
    "         'RIDRETH3': race-ethnicity cat\n",
    "         'RIDEXMON', month survery was perf\n",
    "         'RIDEXAGM', age in mo. at time of exam\n",
    "         'BMXWT' : weight (kg)\n",
    "         'BMXHT': standing height (cm)\n",
    "         'BMXBMI' : body mass index (kg/m)\n",
    "         'BMXWAIST': waist_circum\n",
    "         'LBXFER': ferritin level (ng/ml)"
   ]
  },
  {
   "cell_type": "code",
   "execution_count": 95,
   "id": "4da7d4c0",
   "metadata": {},
   "outputs": [],
   "source": [
    "# Threshold for dropping nulls (60%)\n",
    "threshold = 0.6\n",
    "\n",
    "# Calculate the fraction of nulls in each column\n",
    "null_fraction = df.isnull().mean()\n",
    "\n",
    "# Filter columns with > threshold\n",
    "cols_to_drop = null_fraction[null_fraction > threshold].index\n",
    "\n",
    "# Drop those columns\n",
    "df = df.drop(columns=cols_to_drop)"
   ]
  },
  {
   "cell_type": "code",
   "execution_count": 96,
   "id": "1c4932af",
   "metadata": {},
   "outputs": [],
   "source": [
    "# removing outliers using IQR\n",
    "def remove_outliers(df, columns):\n",
    "    for col in columns:\n",
    "        if df[col].dtype != 'object':\n",
    "            q1 = df[col].quantile(.25)\n",
    "            q3 = df[col].quantile(.75)\n",
    "            iqr = q3 - q1\n",
    "            lower = q1 - 1.5 * iqr\n",
    "            upper = q3 + 1.5 * iqr\n",
    "            df = df[(df[col] >= lower) & (df[col]<= upper)]\n",
    "    return df\n",
    "\n",
    "# columns to remove outliers from\n",
    "outliers_cols = []\n",
    "\n",
    "df = remove_outliers(df, outliers_cols)"
   ]
  },
  {
   "cell_type": "code",
   "execution_count": 97,
   "id": "ef2aea94",
   "metadata": {},
   "outputs": [
    {
     "name": "stdout",
     "output_type": "stream",
     "text": [
      "       SEQN  SDDSRVYR  RIDSTATR  RIAGENDR  RIDAGEYR  RIDRETH1  RIDRETH3  \\\n",
      "0  130380.0      12.0       2.0       2.0      44.0       2.0       2.0   \n",
      "2  130382.0      12.0       2.0       1.0       2.0       3.0       3.0   \n",
      "4  130390.0      12.0       2.0       2.0      31.0       3.0       3.0   \n",
      "5  130391.0      12.0       2.0       2.0      33.0       3.0       3.0   \n",
      "6  130395.0      12.0       2.0       2.0      33.0       5.0       7.0   \n",
      "\n",
      "   RIDEXMON  BMXWT  BMXHT  BMXBMI  BMXWAIST  LBXFER  \n",
      "0       1.0   69.4  152.9    29.7      93.5    13.3  \n",
      "2       2.0   13.6    NaN     NaN       NaN    24.4  \n",
      "4       2.0  122.7  163.3    46.0     131.0    52.1  \n",
      "5       2.0  116.3  172.8    38.9     123.8    91.0  \n",
      "6       2.0  138.4  159.2    54.6     142.5   113.0  \n"
     ]
    }
   ],
   "source": [
    "print(df.head())"
   ]
  },
  {
   "cell_type": "code",
   "execution_count": 98,
   "id": "0abd2668",
   "metadata": {},
   "outputs": [],
   "source": [
    "# filling null values using scikit-learn\n",
    "features = [\n",
    "    'RIAGENDR',  # gender\n",
    "    'RIDAGEYR',  # age\n",
    "    'RIDRETH1',  # race/ethnicity\n",
    "    'RIDEXMON',  # month of exam\n",
    "    'BMXWT',     # weight\n",
    "    'BMXHT',     # height\n",
    "    'BMXBMI',    # bmi\n",
    "    'BMXWAIST'   # waist \n",
    "]\n",
    "\n",
    "# taking subset of og dataframe for imputation\n",
    "df_to_impute = df[features]\n",
    "\n",
    "# initializing imputer\n",
    "imputer = KNNImputer(n_neighbors = 5)\n",
    "\n",
    "# perform imputation\n",
    "imputed_array = imputer.fit_transform(df_to_impute)\n",
    "\n",
    "# replacing w imputed cols\n",
    "df[features] = imputed_array"
   ]
  },
  {
   "cell_type": "code",
   "execution_count": 99,
   "id": "e6e8043e",
   "metadata": {},
   "outputs": [
    {
     "name": "stdout",
     "output_type": "stream",
     "text": [
      "       SEQN  SDDSRVYR  RIDSTATR  RIAGENDR  RIDAGEYR  RIDRETH1  RIDRETH3  \\\n",
      "0  130380.0      12.0       2.0       2.0      44.0       2.0       2.0   \n",
      "2  130382.0      12.0       2.0       1.0       2.0       3.0       3.0   \n",
      "4  130390.0      12.0       2.0       2.0      31.0       3.0       3.0   \n",
      "5  130391.0      12.0       2.0       2.0      33.0       3.0       3.0   \n",
      "6  130395.0      12.0       2.0       2.0      33.0       5.0       7.0   \n",
      "\n",
      "   RIDEXMON  BMXWT   BMXHT  BMXBMI  BMXWAIST  LBXFER  \n",
      "0       1.0   69.4  152.90   29.70      93.5    13.3  \n",
      "2       2.0   13.6   91.02   16.32      49.0    24.4  \n",
      "4       2.0  122.7  163.30   46.00     131.0    52.1  \n",
      "5       2.0  116.3  172.80   38.90     123.8    91.0  \n",
      "6       2.0  138.4  159.20   54.60     142.5   113.0  \n"
     ]
    }
   ],
   "source": [
    "print(df.head())"
   ]
  },
  {
   "cell_type": "markdown",
   "id": "236be96b",
   "metadata": {},
   "source": [
    "Writing Dataframe"
   ]
  },
  {
   "cell_type": "code",
   "execution_count": 100,
   "id": "34558123",
   "metadata": {},
   "outputs": [],
   "source": [
    "df.to_csv('cleaned_data.csv', index=False)\n"
   ]
  }
 ],
 "metadata": {
  "kernelspec": {
   "display_name": "Python 3",
   "language": "python",
   "name": "python3"
  },
  "language_info": {
   "codemirror_mode": {
    "name": "ipython",
    "version": 3
   },
   "file_extension": ".py",
   "mimetype": "text/x-python",
   "name": "python",
   "nbconvert_exporter": "python",
   "pygments_lexer": "ipython3",
   "version": "3.13.0"
  }
 },
 "nbformat": 4,
 "nbformat_minor": 5
}
