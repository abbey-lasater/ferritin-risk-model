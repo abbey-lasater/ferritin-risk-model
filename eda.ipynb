{
 "cells": [
  {
   "cell_type": "markdown",
   "id": "e8de7de8",
   "metadata": {},
   "source": [
    "Nb Desc"
   ]
  },
  {
   "cell_type": "markdown",
   "id": "f5b8560d",
   "metadata": {},
   "source": [
    "Installing Libaries"
   ]
  },
  {
   "cell_type": "code",
   "execution_count": 36,
   "id": "87c4c5b3",
   "metadata": {},
   "outputs": [],
   "source": [
    "import pandas as pd\n",
    "import seaborn as sns\n",
    "import matplotlib.pyplot as plt"
   ]
  },
  {
   "cell_type": "markdown",
   "id": "069cb9ef",
   "metadata": {},
   "source": [
    "Reading in Cleaned dataframe for EDA"
   ]
  },
  {
   "cell_type": "code",
   "execution_count": 37,
   "id": "401531e0",
   "metadata": {},
   "outputs": [],
   "source": [
    "df = pd.read_csv(\"/Users/abbeylasater/Desktop/ferritin-risk-model/cleaned_data.csv\")"
   ]
  },
  {
   "cell_type": "markdown",
   "id": "91fe73bd",
   "metadata": {},
   "source": [
    "Understanding Data Structure"
   ]
  },
  {
   "cell_type": "code",
   "execution_count": 38,
   "id": "d0188eba",
   "metadata": {},
   "outputs": [
    {
     "name": "stdout",
     "output_type": "stream",
     "text": [
      "       SEQN  SDDSRVYR  RIDSTATR  RIAGENDR  RIDAGEYR  RIDRETH1  RIDRETH3  \\\n",
      "0  130380.0      12.0       2.0       2.0      44.0       2.0       2.0   \n",
      "1  130382.0      12.0       2.0       1.0       2.0       3.0       3.0   \n",
      "2  130390.0      12.0       2.0       2.0      31.0       3.0       3.0   \n",
      "3  130391.0      12.0       2.0       2.0      33.0       3.0       3.0   \n",
      "4  130395.0      12.0       2.0       2.0      33.0       5.0       7.0   \n",
      "\n",
      "   RIDEXMON  BMXWT   BMXHT  BMXBMI  BMXWAIST  LBXFER  \n",
      "0       1.0   69.4  152.90   29.70      93.5    13.3  \n",
      "1       2.0   13.6   91.02   16.32      49.0    24.4  \n",
      "2       2.0  122.7  163.30   46.00     131.0    52.1  \n",
      "3       2.0  116.3  172.80   38.90     123.8    91.0  \n",
      "4       2.0  138.4  159.20   54.60     142.5   113.0  \n"
     ]
    }
   ],
   "source": [
    "print(df.head())"
   ]
  },
  {
   "cell_type": "code",
   "execution_count": 39,
   "id": "1b3e5bd8",
   "metadata": {},
   "outputs": [
    {
     "data": {
      "text/plain": [
       "SEQN        float64\n",
       "SDDSRVYR    float64\n",
       "RIDSTATR    float64\n",
       "RIAGENDR    float64\n",
       "RIDAGEYR    float64\n",
       "RIDRETH1    float64\n",
       "RIDRETH3    float64\n",
       "RIDEXMON    float64\n",
       "BMXWT       float64\n",
       "BMXHT       float64\n",
       "BMXBMI      float64\n",
       "BMXWAIST    float64\n",
       "LBXFER      float64\n",
       "dtype: object"
      ]
     },
     "execution_count": 39,
     "metadata": {},
     "output_type": "execute_result"
    }
   ],
   "source": [
    "df.dtypes"
   ]
  },
  {
   "cell_type": "code",
   "execution_count": 40,
   "id": "43026d05",
   "metadata": {},
   "outputs": [
    {
     "data": {
      "text/plain": [
       "(1950, 13)"
      ]
     },
     "execution_count": 40,
     "metadata": {},
     "output_type": "execute_result"
    }
   ],
   "source": [
    "df.shape"
   ]
  },
  {
   "cell_type": "markdown",
   "id": "9a57c656",
   "metadata": {},
   "source": [
    "Summary Stats"
   ]
  },
  {
   "cell_type": "code",
   "execution_count": 41,
   "id": "956723b6",
   "metadata": {},
   "outputs": [
    {
     "data": {
      "text/html": [
       "<div>\n",
       "<style scoped>\n",
       "    .dataframe tbody tr th:only-of-type {\n",
       "        vertical-align: middle;\n",
       "    }\n",
       "\n",
       "    .dataframe tbody tr th {\n",
       "        vertical-align: top;\n",
       "    }\n",
       "\n",
       "    .dataframe thead th {\n",
       "        text-align: right;\n",
       "    }\n",
       "</style>\n",
       "<table border=\"1\" class=\"dataframe\">\n",
       "  <thead>\n",
       "    <tr style=\"text-align: right;\">\n",
       "      <th></th>\n",
       "      <th>SEQN</th>\n",
       "      <th>SDDSRVYR</th>\n",
       "      <th>RIDSTATR</th>\n",
       "      <th>RIAGENDR</th>\n",
       "      <th>RIDAGEYR</th>\n",
       "      <th>RIDRETH1</th>\n",
       "      <th>RIDRETH3</th>\n",
       "      <th>RIDEXMON</th>\n",
       "      <th>BMXWT</th>\n",
       "      <th>BMXHT</th>\n",
       "      <th>BMXBMI</th>\n",
       "      <th>BMXWAIST</th>\n",
       "      <th>LBXFER</th>\n",
       "    </tr>\n",
       "  </thead>\n",
       "  <tbody>\n",
       "    <tr>\n",
       "      <th>count</th>\n",
       "      <td>1950.000000</td>\n",
       "      <td>1950.0</td>\n",
       "      <td>1950.0</td>\n",
       "      <td>1950.000000</td>\n",
       "      <td>1950.000000</td>\n",
       "      <td>1950.000000</td>\n",
       "      <td>1950.000000</td>\n",
       "      <td>1950.000000</td>\n",
       "      <td>1950.000000</td>\n",
       "      <td>1950.000000</td>\n",
       "      <td>1950.000000</td>\n",
       "      <td>1950.000000</td>\n",
       "      <td>1950.000000</td>\n",
       "    </tr>\n",
       "    <tr>\n",
       "      <th>mean</th>\n",
       "      <td>136401.664615</td>\n",
       "      <td>12.0</td>\n",
       "      <td>2.0</td>\n",
       "      <td>1.931282</td>\n",
       "      <td>26.351795</td>\n",
       "      <td>3.044103</td>\n",
       "      <td>3.249744</td>\n",
       "      <td>1.503590</td>\n",
       "      <td>67.783318</td>\n",
       "      <td>153.814379</td>\n",
       "      <td>27.148287</td>\n",
       "      <td>87.123959</td>\n",
       "      <td>55.713882</td>\n",
       "    </tr>\n",
       "    <tr>\n",
       "      <th>std</th>\n",
       "      <td>3430.787473</td>\n",
       "      <td>0.0</td>\n",
       "      <td>0.0</td>\n",
       "      <td>0.253039</td>\n",
       "      <td>13.826838</td>\n",
       "      <td>1.131255</td>\n",
       "      <td>1.547168</td>\n",
       "      <td>0.500115</td>\n",
       "      <td>29.683808</td>\n",
       "      <td>21.474862</td>\n",
       "      <td>9.056689</td>\n",
       "      <td>22.497031</td>\n",
       "      <td>61.955185</td>\n",
       "    </tr>\n",
       "    <tr>\n",
       "      <th>min</th>\n",
       "      <td>130380.000000</td>\n",
       "      <td>12.0</td>\n",
       "      <td>2.0</td>\n",
       "      <td>1.000000</td>\n",
       "      <td>1.000000</td>\n",
       "      <td>1.000000</td>\n",
       "      <td>1.000000</td>\n",
       "      <td>1.000000</td>\n",
       "      <td>8.500000</td>\n",
       "      <td>79.800000</td>\n",
       "      <td>13.500000</td>\n",
       "      <td>40.300000</td>\n",
       "      <td>2.050000</td>\n",
       "    </tr>\n",
       "    <tr>\n",
       "      <th>25%</th>\n",
       "      <td>133408.500000</td>\n",
       "      <td>12.0</td>\n",
       "      <td>2.0</td>\n",
       "      <td>2.000000</td>\n",
       "      <td>15.000000</td>\n",
       "      <td>2.000000</td>\n",
       "      <td>2.000000</td>\n",
       "      <td>1.000000</td>\n",
       "      <td>53.200000</td>\n",
       "      <td>153.600000</td>\n",
       "      <td>20.800000</td>\n",
       "      <td>73.500000</td>\n",
       "      <td>21.625000</td>\n",
       "    </tr>\n",
       "    <tr>\n",
       "      <th>50%</th>\n",
       "      <td>136597.000000</td>\n",
       "      <td>12.0</td>\n",
       "      <td>2.0</td>\n",
       "      <td>2.000000</td>\n",
       "      <td>28.000000</td>\n",
       "      <td>3.000000</td>\n",
       "      <td>3.000000</td>\n",
       "      <td>2.000000</td>\n",
       "      <td>66.300000</td>\n",
       "      <td>160.500000</td>\n",
       "      <td>25.500000</td>\n",
       "      <td>85.500000</td>\n",
       "      <td>38.000000</td>\n",
       "    </tr>\n",
       "    <tr>\n",
       "      <th>75%</th>\n",
       "      <td>139348.000000</td>\n",
       "      <td>12.0</td>\n",
       "      <td>2.0</td>\n",
       "      <td>2.000000</td>\n",
       "      <td>38.000000</td>\n",
       "      <td>4.000000</td>\n",
       "      <td>4.000000</td>\n",
       "      <td>2.000000</td>\n",
       "      <td>83.475000</td>\n",
       "      <td>165.600000</td>\n",
       "      <td>31.800000</td>\n",
       "      <td>100.100000</td>\n",
       "      <td>67.275000</td>\n",
       "    </tr>\n",
       "    <tr>\n",
       "      <th>max</th>\n",
       "      <td>142307.000000</td>\n",
       "      <td>12.0</td>\n",
       "      <td>2.0</td>\n",
       "      <td>2.000000</td>\n",
       "      <td>49.000000</td>\n",
       "      <td>5.000000</td>\n",
       "      <td>7.000000</td>\n",
       "      <td>2.000000</td>\n",
       "      <td>185.200000</td>\n",
       "      <td>182.700000</td>\n",
       "      <td>74.800000</td>\n",
       "      <td>158.600000</td>\n",
       "      <td>984.000000</td>\n",
       "    </tr>\n",
       "  </tbody>\n",
       "</table>\n",
       "</div>"
      ],
      "text/plain": [
       "                SEQN  SDDSRVYR  RIDSTATR     RIAGENDR     RIDAGEYR  \\\n",
       "count    1950.000000    1950.0    1950.0  1950.000000  1950.000000   \n",
       "mean   136401.664615      12.0       2.0     1.931282    26.351795   \n",
       "std      3430.787473       0.0       0.0     0.253039    13.826838   \n",
       "min    130380.000000      12.0       2.0     1.000000     1.000000   \n",
       "25%    133408.500000      12.0       2.0     2.000000    15.000000   \n",
       "50%    136597.000000      12.0       2.0     2.000000    28.000000   \n",
       "75%    139348.000000      12.0       2.0     2.000000    38.000000   \n",
       "max    142307.000000      12.0       2.0     2.000000    49.000000   \n",
       "\n",
       "          RIDRETH1     RIDRETH3     RIDEXMON        BMXWT        BMXHT  \\\n",
       "count  1950.000000  1950.000000  1950.000000  1950.000000  1950.000000   \n",
       "mean      3.044103     3.249744     1.503590    67.783318   153.814379   \n",
       "std       1.131255     1.547168     0.500115    29.683808    21.474862   \n",
       "min       1.000000     1.000000     1.000000     8.500000    79.800000   \n",
       "25%       2.000000     2.000000     1.000000    53.200000   153.600000   \n",
       "50%       3.000000     3.000000     2.000000    66.300000   160.500000   \n",
       "75%       4.000000     4.000000     2.000000    83.475000   165.600000   \n",
       "max       5.000000     7.000000     2.000000   185.200000   182.700000   \n",
       "\n",
       "            BMXBMI     BMXWAIST       LBXFER  \n",
       "count  1950.000000  1950.000000  1950.000000  \n",
       "mean     27.148287    87.123959    55.713882  \n",
       "std       9.056689    22.497031    61.955185  \n",
       "min      13.500000    40.300000     2.050000  \n",
       "25%      20.800000    73.500000    21.625000  \n",
       "50%      25.500000    85.500000    38.000000  \n",
       "75%      31.800000   100.100000    67.275000  \n",
       "max      74.800000   158.600000   984.000000  "
      ]
     },
     "execution_count": 41,
     "metadata": {},
     "output_type": "execute_result"
    }
   ],
   "source": [
    "df.describe()"
   ]
  },
  {
   "cell_type": "markdown",
   "id": "a7a031de",
   "metadata": {},
   "source": [
    "target variable"
   ]
  },
  {
   "cell_type": "markdown",
   "id": "df38ccc6",
   "metadata": {},
   "source": [
    "Defining target variable\n",
    "ferritin deficiency is < 40 ng/ml\n",
    "below optimal ferritin is <100 ng/ml\n",
    "source: https://pmc.ncbi.nlm.nih.gov/articles/PMC4647225/\n",
    "\n",
    "Typical Range: 11 to 307 micrograms per liter. (Mayo Clinic)"
   ]
  },
  {
   "cell_type": "code",
   "execution_count": null,
   "id": "271bdb7a",
   "metadata": {},
   "outputs": [],
   "source": [
    "# boolean col indicating whether or not someone is deficient in ferritin\n",
    "df['ferritin_deficiency'] = (df['LBXFER'] < 40).astype(int)"
   ]
  },
  {
   "cell_type": "code",
   "execution_count": 43,
   "id": "7e6f952f",
   "metadata": {},
   "outputs": [
    {
     "name": "stdout",
     "output_type": "stream",
     "text": [
      "          SEQN  SDDSRVYR  RIDSTATR  RIAGENDR  RIDAGEYR  RIDRETH1  RIDRETH3  \\\n",
      "0     130380.0      12.0       2.0       2.0      44.0       2.0       2.0   \n",
      "1     130382.0      12.0       2.0       1.0       2.0       3.0       3.0   \n",
      "2     130390.0      12.0       2.0       2.0      31.0       3.0       3.0   \n",
      "3     130391.0      12.0       2.0       2.0      33.0       3.0       3.0   \n",
      "4     130395.0      12.0       2.0       2.0      33.0       5.0       7.0   \n",
      "...        ...       ...       ...       ...       ...       ...       ...   \n",
      "1945  142277.0      12.0       2.0       1.0       2.0       2.0       2.0   \n",
      "1946  142280.0      12.0       2.0       2.0      23.0       5.0       7.0   \n",
      "1947  142283.0      12.0       2.0       2.0      29.0       5.0       7.0   \n",
      "1948  142300.0      12.0       2.0       2.0      46.0       1.0       1.0   \n",
      "1949  142307.0      12.0       2.0       2.0      49.0       4.0       4.0   \n",
      "\n",
      "      RIDEXMON   BMXWT   BMXHT  BMXBMI  BMXWAIST  LBXFER  ferritin_deficiency  \n",
      "0          1.0   69.40  152.90   29.70     93.50   13.30                    1  \n",
      "1          2.0   13.60   91.02   16.32     49.00   24.40                    1  \n",
      "2          2.0  122.70  163.30   46.00    131.00   52.10                    0  \n",
      "3          2.0  116.30  172.80   38.90    123.80   91.00                    0  \n",
      "4          2.0  138.40  159.20   54.60    142.50  113.00                    0  \n",
      "...        ...     ...     ...     ...       ...     ...                  ...  \n",
      "1945       1.0   17.00   89.50   21.20     56.00   36.10                    1  \n",
      "1946       2.0  112.90  171.40   38.40    124.10   66.40                    0  \n",
      "1947       1.0  134.30  171.30   45.80    137.20   31.60                    1  \n",
      "1948       1.0   75.20  151.80   32.60     97.60    5.69                    1  \n",
      "1949       2.0   59.76  143.80   28.00     88.26  286.00                    0  \n",
      "\n",
      "[1950 rows x 14 columns]\n"
     ]
    }
   ],
   "source": [
    "print(df)"
   ]
  },
  {
   "cell_type": "markdown",
   "id": "60c9c21c",
   "metadata": {},
   "source": [
    "Visualizing Distributions"
   ]
  },
  {
   "cell_type": "code",
   "execution_count": 46,
   "id": "ee3c61ed",
   "metadata": {},
   "outputs": [
    {
     "data": {
      "image/png": "[encoded data removed]",
      "text/plain": [
       "<Figure size 640x480 with 1 Axes>"
      ]
     },
     "metadata": {},
     "output_type": "display_data"
    }
   ],
   "source": [
    "sns.histplot(df['LBXFER'],kde=True)\n",
    "sns.boxplot(x='ferritin_deficiency', y='RIDAGEYR',data=df)\n",
    "\n",
    "plt.ylim(0, 50)\n",
    "\n",
    "plt.show()"
   ]
  },
  {
   "cell_type": "code",
   "execution_count": null,
   "id": "58c23988",
   "metadata": {},
   "outputs": [],
   "source": [
    "sns.histplot(df['LBXFER'],kde=True)\n",
    "sns.boxplot(x='ferritin_deficiency', y='RIDAGEYR',data=df)\n",
    "\n",
    "plt.ylim(0, 50)\n",
    "\n",
    "plt.show()"
   ]
  },
  {
   "cell_type": "markdown",
   "id": "f4bf2ed3",
   "metadata": {},
   "source": []
  }
 ],
 "metadata": {
  "kernelspec": {
   "display_name": "Python 3",
   "language": "python",
   "name": "python3"
  },
  "language_info": {
   "codemirror_mode": {
    "name": "ipython",
    "version": 3
   },
   "file_extension": ".py",
   "mimetype": "text/x-python",
   "name": "python",
   "nbconvert_exporter": "python",
   "pygments_lexer": "ipython3",
   "version": "3.13.0"
  }
 },
 "nbformat": 4,
 "nbformat_minor": 5
}
